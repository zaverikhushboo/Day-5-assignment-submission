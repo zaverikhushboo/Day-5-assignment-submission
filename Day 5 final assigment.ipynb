{
 "cells": [
  {
   "cell_type": "code",
   "execution_count": 1,
   "metadata": {},
   "outputs": [
    {
     "name": "stdout",
     "output_type": "stream",
     "text": [
      "sky\n",
      "blue\n",
      "tree\n",
      "book\n",
      "laptop\n",
      "orange\n",
      "\n"
     ]
    }
   ],
   "source": [
    "l = []\n",
    "with open(r\"C:\\Users\\dell\\Documents\\Data analysis\\Untitled Folder\\words.txt\" , \"r\") as file:\n",
    "    for line in file:\n",
    "        for word in line.split(\",\"):\n",
    "            print(word)\n",
    "            l.append(word)"
   ]
  },
  {
   "cell_type": "code",
   "execution_count": 2,
   "metadata": {},
   "outputs": [
    {
     "name": "stdout",
     "output_type": "stream",
     "text": [
      "['sky', 'blue', 'tree', 'book', 'laptop', 'orange\\n']\n"
     ]
    }
   ],
   "source": [
    "print(l)"
   ]
  },
  {
   "cell_type": "code",
   "execution_count": 3,
   "metadata": {},
   "outputs": [],
   "source": [
    "import random"
   ]
  },
  {
   "cell_type": "code",
   "execution_count": null,
   "metadata": {},
   "outputs": [],
   "source": [
    "secret_word = random.choice(l)\n",
    "guesses = \" \"\n",
    "\n",
    "\n",
    "\n",
    "for guesses in l:\n",
    "    while guesses != secret_word:\n",
    "        guesses = input(\"Enter a word : \")\n",
    "    else:\n",
    "        print (\"You win!\")\n"
   ]
  },
  {
   "cell_type": "code",
   "execution_count": null,
   "metadata": {},
   "outputs": [],
   "source": []
  }
 ],
 "metadata": {
  "kernelspec": {
   "display_name": "Python 3",
   "language": "python",
   "name": "python3"
  },
  "language_info": {
   "codemirror_mode": {
    "name": "ipython",
    "version": 3
   },
   "file_extension": ".py",
   "mimetype": "text/x-python",
   "name": "python",
   "nbconvert_exporter": "python",
   "pygments_lexer": "ipython3",
   "version": "3.7.6"
  }
 },
 "nbformat": 4,
 "nbformat_minor": 4
}
